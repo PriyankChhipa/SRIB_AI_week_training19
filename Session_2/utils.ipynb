{
  "nbformat": 4,
  "nbformat_minor": 0,
  "metadata": {
    "colab": {
      "name": "utils.ipynb",
      "version": "0.3.2",
      "provenance": [],
      "collapsed_sections": []
    },
    "kernelspec": {
      "name": "python3",
      "display_name": "Python 3"
    }
  },
  "cells": [
    {
      "metadata": {
        "id": "uXlWUysWlvDY",
        "colab_type": "text"
      },
      "cell_type": "markdown",
      "source": [
        "**Perform Data Normalization**"
      ]
    },
    {
      "metadata": {
        "id": "76O_O-uFltnr",
        "colab_type": "code",
        "colab": {}
      },
      "cell_type": "code",
      "source": [
        "def normalized(rgb): \n",
        "  '''\n",
        "    <input>: opencv image object\n",
        "    <output>: normalized opencv image object\n",
        "    \n",
        "    This method runs a histogram equalization of the\n",
        "    input image to nullify the effect of uneven\n",
        "    lighting conditions.\n",
        "    \n",
        "  '''\n",
        "  # initialize with a zero matrix\n",
        "  norm=np.zeros((rgb.shape[0], rgb.shape[1], 3),np.float32)\n",
        "\n",
        "  # convert RGB to opencv BGR format\n",
        "  b = rgb[:,:,0]\n",
        "  g = rgb[:,:,1]\n",
        "  r = rgb[:,:,2]\n",
        "\n",
        "  # run a histogram equalization on the image\n",
        "  # filter out the effects due to uneven lighting conditions\n",
        "  norm[:,:,0]=cv2.equalizeHist(b)\n",
        "  norm[:,:,1]=cv2.equalizeHist(g)\n",
        "  norm[:,:,2]=cv2.equalizeHist(r)\n",
        "\n",
        "  # return the normalized image\n",
        "  return norm"
      ],
      "execution_count": 0,
      "outputs": []
    },
    {
      "metadata": {
        "id": "xSbJEtj9jaym",
        "colab_type": "text"
      },
      "cell_type": "markdown",
      "source": [
        "**Helper functions to get image from file**"
      ]
    },
    {
      "metadata": {
        "id": "3RHIVPrTjQDi",
        "colab_type": "code",
        "colab": {}
      },
      "cell_type": "code",
      "source": [
        "import os\n",
        "from random import randint\n",
        "DataPath = './SegNet-Tutorial/CamVid/'\n",
        "  \n",
        "def get_image(mode, index=None):\n",
        "  with open(DataPath + mode +'.txt') as f:\n",
        "    txt_list = f.readlines()\n",
        "    txt_list = [line.strip().split(' ') for line in txt_list]\n",
        "    file_count = len(txt_list)\n",
        "    if(index == None):\n",
        "      index = randint(0, file_count-1)\n",
        "    if(index > file_count):\n",
        "      raise Exception(\"Index can not be greater than population size!\")\n",
        "    img_path = DataPath + txt_list[index][0][15:]\n",
        "    return cv2.imread(img_path)\n",
        "\n",
        "def get_random_image(mode):\n",
        "  return get_image(mode)"
      ],
      "execution_count": 0,
      "outputs": []
    },
    {
      "metadata": {
        "id": "YM0fyMKlk-H_",
        "colab_type": "text"
      },
      "cell_type": "markdown",
      "source": [
        "**Helper functions to get label mat from file**"
      ]
    },
    {
      "metadata": {
        "id": "yYMJSlClk7az",
        "colab_type": "code",
        "colab": {}
      },
      "cell_type": "code",
      "source": [
        "def get_label(mode, index):\n",
        "  with open(DataPath + mode +'.txt') as f:\n",
        "    txt_list = f.readlines()\n",
        "    txt_list = [line.strip().split(' ') for line in txt_list]\n",
        "    file_count = len(txt_list)\n",
        "    if(index > file_count):\n",
        "      raise Exception(\"Index can not be greater than population size!\")\n",
        "    img_path = DataPath + txt_list[index][1][15:]\n",
        "    return Visualizer().create_vis_mat(cv2.imread(img_path, cv2.IMREAD_GRAYSCALE))"
      ],
      "execution_count": 0,
      "outputs": []
    },
    {
      "metadata": {
        "id": "0sqIWhvhjirN",
        "colab_type": "text"
      },
      "cell_type": "markdown",
      "source": [
        "**Visualization of network output**"
      ]
    },
    {
      "metadata": {
        "id": "WHCNsYaJjkXd",
        "colab_type": "code",
        "colab": {}
      },
      "cell_type": "code",
      "source": [
        "class Visualizer:\n",
        "  '''\n",
        "    Helper class used for visualization of model output on test images\n",
        "  '''\n",
        "  def __init__(self):\n",
        "    # RGB color coding for the respective classes\n",
        "    Sky = [128,128,128]\n",
        "    Building = [128,0,0]\n",
        "    Pole = [192,192,128]\n",
        "    Road_marking = [255,69,0]\n",
        "    Road = [128,64,128]\n",
        "    Pavement = [60,40,222]\n",
        "    Tree = [128,128,0]\n",
        "    SignSymbol = [192,128,128]\n",
        "    Fence = [64,64,128]\n",
        "    Car = [64,0,128]\n",
        "    Pedestrian = [64,64,0]\n",
        "    Bicyclist = [0,128,192]\n",
        "    Unlabelled = [0,0,0]\n",
        "\n",
        "    self.label_colours = np.array([Sky, Building, Pole, Road, Pavement,\n",
        "                              Tree, SignSymbol, Fence, Car, Pedestrian, Bicyclist, Unlabelled])\n",
        "    class_colours = np.divide(self.label_colours, 255.0)\n",
        "    # for drawing the labels\n",
        "    classes = [\"Sky\", \"Building\", \"Pole\", \"Road\", \"Pavement\", \"Tree\", \"SignSymbol\", \"Fence\", \"Car\", \"Pedestrian\", \"Bicyclist\", \"Unlabelled\"]\n",
        "    self.patches = [ mpatches.Patch(color=class_colours[i], label=classes[i]) for i in range(len(classes)) ]\n",
        "\n",
        "  def create_vis_mat(self, mat):\n",
        "    '''\n",
        "    Function to create visualization matrix given the output\n",
        "    '''\n",
        "    \n",
        "    r = mat.copy()\n",
        "    g = mat.copy()\n",
        "    b = mat.copy()\n",
        "    \n",
        "    for l in range(0,11):\n",
        "        r[mat==l] = self.label_colours[l,0]\n",
        "        g[mat==l] = self.label_colours[l,1]\n",
        "        b[mat==l] = self.label_colours[l,2]\n",
        "\n",
        "    rgb = np.zeros((mat.shape[0], mat.shape[1], 3))\n",
        "    rgb[:,:,0] = (r/255.0)\n",
        "    rgb[:,:,1] = (g/255.0)\n",
        "    rgb[:,:,2] = (b/255.0)\n",
        "\n",
        "    return rgb\n",
        "\n",
        "  def image_to_data(self, image):\n",
        "    '''\n",
        "    Takes image as input and outputs numpy array required by the model\n",
        "    '''\n",
        "\n",
        "    img = np.rollaxis(normalized(image),2)\n",
        "    return np.array([img])\n",
        "  \n",
        "  def visualize(self, image, model):\n",
        "    '''\n",
        "    Function to visualize output of model on given image\n",
        "    '''\n",
        "    gen_seg = self.image_to_data(image)\n",
        "    output = model.predict(gen_seg)\n",
        "    label_mat = np.argmax(output[0],axis=1).reshape((image_height, image_width))\n",
        "    print (label_mat.shape)\n",
        "    pred = self.create_vis_mat(label_mat)\n",
        "\n",
        "    plt.legend(handles=self.patches, bbox_to_anchor=(1.05, 1), loc=2, borderaxespad=0. )\n",
        "    plt.imshow(pred)\n",
        "    plt.figure(2)\n",
        "    plt.imshow(image)\n",
        "    \n",
        "  def visualize_ground_truth(self, image, label):\n",
        "    '''\n",
        "      Function to visualize the ground truth annotations for a given\n",
        "      image and its class label map\n",
        "    '''\n",
        "    #label_img = self.create_vis_mat(np.argmax(label_mat),axis=1)\n",
        "    plt.legend(handles=self.patches, bbox_to_anchor=(1.05, 1), loc=2, borderaxespad=0.)\n",
        "    plt.imshow(label)\n",
        "    plt.figure(2)\n",
        "    plt.imshow(image)"
      ],
      "execution_count": 0,
      "outputs": []
    },
    {
      "metadata": {
        "id": "jAPxgmJ0kAoT",
        "colab_type": "text"
      },
      "cell_type": "markdown",
      "source": [
        "**Utility function for plotting history of training loss and validation loss**\n"
      ]
    },
    {
      "metadata": {
        "id": "HEHFh7h8kGye",
        "colab_type": "code",
        "colab": {}
      },
      "cell_type": "code",
      "source": [
        "def plot_history(training_loss, val_loss, training_acc, val_acc):\n",
        "    # Create count of the number of epochs\n",
        "    epoch_count = range(1, len(training_loss) + 1)\n",
        "\n",
        "    # Visualize loss history\n",
        "    plt.plot(epoch_count, training_loss, 'r--')\n",
        "    plt.plot(epoch_count, val_loss, 'b-')\n",
        "    plt.legend(['Training Loss', 'Validation Loss'])\n",
        "    plt.xlabel('Epoch')\n",
        "    plt.ylabel('Loss')\n",
        "    plt.show();\n",
        "    \n",
        "    plt.figure(2)\n",
        "    plt.plot(epoch_count, training_acc, 'r--')\n",
        "    plt.plot(epoch_count, val_acc, 'b-')\n",
        "    plt.legend(['Training Accuracy', 'Validation Accuracy'])\n",
        "    plt.xlabel('Epoch')\n",
        "    plt.ylabel('Accuracy')\n",
        "    plt.show();"
      ],
      "execution_count": 0,
      "outputs": []
    },
    {
      "metadata": {
        "id": "Wwj9QRas0qdq",
        "colab_type": "text"
      },
      "cell_type": "markdown",
      "source": [
        "**Helper function to print the layer data**"
      ]
    },
    {
      "metadata": {
        "id": "kuzoGak20mmQ",
        "colab_type": "code",
        "colab": {}
      },
      "cell_type": "code",
      "source": [
        "def print_last_layer_info(model):\n",
        "  '''\n",
        "    takes a model as input and prints the info\n",
        "    of the last layer\n",
        "    \n",
        "  '''\n",
        "  print (model.layers[-1].name)\n",
        "  print (model.layers[-1].input_shape)\n",
        "  print (model.layers[-1].output_shape)"
      ],
      "execution_count": 0,
      "outputs": []
    }
  ]
}